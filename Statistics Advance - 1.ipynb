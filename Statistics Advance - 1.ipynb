{
 "cells": [
  {
   "cell_type": "code",
   "execution_count": 1,
   "metadata": {},
   "outputs": [
    {
     "name": "stdout",
     "output_type": "stream",
     "text": [
      "Variance of Profession A: 32.8\n",
      "Variance of Profession B: 15.7\n",
      "F-Statistic: 2.089171974522293\n",
      "p-value: 0.7534757004973305\n"
     ]
    }
   ],
   "source": [
    "\"\"\"8. Question: You have two sets of data representing the incomes of two different professions1\n",
    "V Profession A: [48, 52, 55, 60, 62'\n",
    "V Profession B: [45, 50, 55, 52, 47] Perform an F-test to determine if the variances of the two professions'\n",
    "#incomes are equal. What are your conclusions based on the F-test?\n",
    "\n",
    "Task: Use Python to calculate the F-statistic and p-value for the given data.\n",
    "Objective: Gain experience in performing F-tests and interpreting the results in terms of variance comparison\"\"\"\n",
    "\n",
    "\n",
    "import numpy as np\n",
    "import scipy.stats as stats\n",
    "\n",
    "# Data for Profession A and Profession B\n",
    "profession_a = [48, 52, 55, 60, 62]\n",
    "profession_b = [45, 50, 55, 52, 47]\n",
    "\n",
    "# Calculate variances\n",
    "variance_a = np.var(profession_a, ddof=1)\n",
    "variance_b = np.var(profession_b, ddof=1)\n",
    "\n",
    "# Calculate the F-statistic\n",
    "f_statistic = variance_a / variance_b\n",
    "\n",
    "# Calculate the degrees of freedom\n",
    "dfn = len(profession_a) - 1  # degrees of freedom for the numerator\n",
    "dfd = len(profession_b) - 1  # degrees of freedom for the denominator\n",
    "\n",
    "# Calculate the p-value\n",
    "p_value = stats.f.cdf(f_statistic, dfn, dfd)\n",
    "\n",
    "# Output the results\n",
    "print(\"Variance of Profession A:\", variance_a)\n",
    "print(\"Variance of Profession B:\", variance_b)\n",
    "print(\"F-Statistic:\", f_statistic)\n",
    "print(\"p-value:\", p_value)\n"
   ]
  },
  {
   "cell_type": "code",
   "execution_count": 2,
   "metadata": {},
   "outputs": [
    {
     "name": "stdout",
     "output_type": "stream",
     "text": [
      "F-Statistic: 67.87330316742101\n",
      "p-value: 2.8706641879370266e-07\n"
     ]
    }
   ],
   "source": [
    "\"\"\"9. Question: Conduct a one-way ANOVA to test whether there are any statistically significant differences in\n",
    "average heights between three different regions with the following data1\n",
    "V Region A: [160, 162, 165, 158, 164'\n",
    "V Region B: [172, 175, 170, 168, 174'\n",
    "V Region C: [180, 182, 179, 185, 183'\n",
    "V Task: Write Python code to perform the one-way ANOVA and interpret the results\f\n",
    "V Objective: Learn how to perform one-way ANOVA using Python and interpret F-statistic and p-value.\"\"\"\n",
    "\n",
    "import scipy.stats as stats\n",
    "\n",
    "# Heights data for three regions\n",
    "region_a = [160, 162, 165, 158, 164]\n",
    "region_b = [172, 175, 170, 168, 174]\n",
    "region_c = [180, 182, 179, 185, 183]\n",
    "\n",
    "# Perform one-way ANOVA\n",
    "f_statistic, p_value = stats.f_oneway(region_a, region_b, region_c)\n",
    "\n",
    "# Output the results\n",
    "print(\"F-Statistic:\", f_statistic)\n",
    "print(\"p-value:\", p_value)\n"
   ]
  }
 ],
 "metadata": {
  "kernelspec": {
   "display_name": "Python 3",
   "language": "python",
   "name": "python3"
  },
  "language_info": {
   "codemirror_mode": {
    "name": "ipython",
    "version": 3
   },
   "file_extension": ".py",
   "mimetype": "text/x-python",
   "name": "python",
   "nbconvert_exporter": "python",
   "pygments_lexer": "ipython3",
   "version": "3.12.6"
  }
 },
 "nbformat": 4,
 "nbformat_minor": 2
}
